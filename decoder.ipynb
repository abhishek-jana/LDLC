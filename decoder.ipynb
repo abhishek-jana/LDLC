{
 "cells": [
  {
   "cell_type": "code",
   "execution_count": 1,
   "metadata": {},
   "outputs": [],
   "source": [
    "import numpy as np\n",
    "from scipy.integrate import quad"
   ]
  },
  {
   "cell_type": "code",
   "execution_count": 25,
   "metadata": {},
   "outputs": [],
   "source": [
    "\n",
    "# Create an integer messege vector b\n",
    "\n",
    "b = np.array([3,6,7,2,5,2])\n",
    "\n",
    "# create H here n = 6 d = 3 normalize H to get |det(G)| = |det(H)| = 1\n",
    "\n",
    "H = np.array([[0, -0.8, 0, -0.5, 1, 0],[0.8, 0, 0, 1, 0, -0.5],[0, 0.5, 1, 0, 0.8, 0],[0, 0, -0.5, -0.8, 0, 1],[1, 0, 0, 0, 0.5, 0.8],[0.5, -1, -0.8, 0, 0, 0]])\n",
    "\n",
    "H_norm = H/np.abs(np.linalg.det(H))**(1/6.)\n",
    "\n",
    "# Calculate generator matrix G = inv(H) normalize H to get |det(G)| = 1\n",
    "\n",
    "G = np.linalg.inv(H_norm)\n",
    "\n",
    "# Calculate codeword x\n",
    "\n",
    "x = np.dot(G,b)\n",
    "\n",
    "# create noisy codeword y = x + w\n",
    "\n",
    "mu, sigma = 0, 1 # mean and standard deviation\n",
    "w = np.random.normal(mu, sigma, x.shape)\n",
    "y = x + w\n",
    "\n",
    "# x1, x2, x3, x4,...,xn -> variable node c1,c2,....,cn -> check node\n",
    "# Initialization\n",
    "\n",
    "x_input = np.arange(-200.0,200.0,0.1)"
   ]
  },
  {
   "cell_type": "markdown",
   "metadata": {},
   "source": [
    "#### Do we know y?"
   ]
  },
  {
   "cell_type": "code",
   "execution_count": null,
   "metadata": {},
   "outputs": [],
   "source": [
    "\n",
    "\n",
    "def messege(x,k):\n",
    "    # y and sigma should be given\n",
    "    global y\n",
    "    global sigma\n",
    "    return (np.exp(-(((y[k] - x)/sigma)**2)/2.))/(np.sqrt(2*np.pi*sigma**2))\n",
    "\n",
    "# Basic iteration\n",
    "\n",
    "def conv(j,h_r,x):\n",
    "    # assuming r is known\n",
    "    # h_r is the non-zero elements of a row\n",
    "    # assuming h_r is known\n",
    "    p_j = 1\n",
    "    for i,k in enumerate (h_r[:j]):\n",
    "        p_j = np.convolve(p_j,messege(i,x/k))\n",
    "    for l,m in enumerate (h_r[j:]):\n",
    "        p_j = np.convolve(p_j,messege(l,x/m))\n",
    "    return p_j\n",
    "\n",
    "def stretch(j,h_r,x):\n",
    "    # The result is stretched by -h_j\n",
    "    return conv(j,h_r,-h_r[j]*x)\n",
    "\n",
    "def periodic_extension(j,h_r,x):\n",
    "    #The result is extended to a periodic function with period 1/|hj |:\n",
    "    end = 1000\n",
    "    i = -1000\n",
    "    q = 0\n",
    "    while i < end:\n",
    "        q += stretch(j, h_r , x  - i/h_r[j])\n",
    "        i += 1\n",
    "    return q\n",
    "    \n",
    "def product(j,h_r,k,x):\n",
    "    \n",
    "    # for a specific variable node x_k\n",
    "    # e - column degree\n",
    "    # l != j\n",
    "    # h_r is the non-zero elements of a row\n",
    "    (np.exp(-(((y[k] - x)/sigma)**2)/2.))\n",
    "    e = 3 # in this case\n",
    "    q_l = 1\n",
    "    l = 1\n",
    "    while (l < j):\n",
    "        q_l *= periodic_extension(l,h_r[l],x)\n",
    "        l += 1\n",
    "    l = j+1\n",
    "    while (l < e):\n",
    "        q_l *= periodic_extension(l,h_r[l],x)\n",
    "        l += 1\n",
    "    retrun (np.exp(-(((y[k] - x)/sigma)**2)/2.))*q_l\n",
    "    \n",
    "def normalization(k):\n",
    "    low = -100.0 # lower limit\n",
    "    high = 100.0 # Upper limit\n",
    "    norm = quad(messege,low,high,args = (k,))\n",
    "    return product(j,h_r,k,x)/norm\n",
    "\n"
   ]
  },
  {
   "cell_type": "code",
   "execution_count": null,
   "metadata": {},
   "outputs": [],
   "source": []
  },
  {
   "cell_type": "code",
   "execution_count": null,
   "metadata": {},
   "outputs": [],
   "source": [
    "#print (conv(1,np.array([-0.8,-0.5,1])))\n",
    "#print (messege(1,x))\n",
    "    \n",
    "    \n",
    "#test = stretch(1,[-0.8,-0.5,1],x_input)\n",
    "#nonzero = [e for e in test if e!= 0]\n",
    "\n",
    "#print (len(nonzero),len(test))\n",
    "\n",
    "period = periodic_extension(1,[-0.8,-0.5,1],x_input)\n",
    "\n",
    "print (len(period))\n"
   ]
  },
  {
   "cell_type": "code",
   "execution_count": null,
   "metadata": {},
   "outputs": [],
   "source": [
    "import matplotlib.pyplot as plt\n",
    "import seaborn as sns\n",
    "%matplotlib inline"
   ]
  },
  {
   "cell_type": "code",
   "execution_count": null,
   "metadata": {},
   "outputs": [],
   "source": [
    "sns.distplot(period);"
   ]
  },
  {
   "cell_type": "code",
   "execution_count": null,
   "metadata": {},
   "outputs": [],
   "source": [
    "plt.plot(np.arange(11998),period);"
   ]
  },
  {
   "cell_type": "code",
   "execution_count": null,
   "metadata": {},
   "outputs": [],
   "source": []
  },
  {
   "cell_type": "code",
   "execution_count": null,
   "metadata": {},
   "outputs": [],
   "source": []
  },
  {
   "cell_type": "code",
   "execution_count": null,
   "metadata": {},
   "outputs": [],
   "source": []
  }
 ],
 "metadata": {
  "kernelspec": {
   "display_name": "Python 3",
   "language": "python",
   "name": "python3"
  },
  "language_info": {
   "codemirror_mode": {
    "name": "ipython",
    "version": 3
   },
   "file_extension": ".py",
   "mimetype": "text/x-python",
   "name": "python",
   "nbconvert_exporter": "python",
   "pygments_lexer": "ipython3",
   "version": "3.7.6"
  }
 },
 "nbformat": 4,
 "nbformat_minor": 4
}
