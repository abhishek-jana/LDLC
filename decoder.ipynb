{
 "cells": [
  {
   "cell_type": "code",
   "execution_count": 1,
   "metadata": {},
   "outputs": [],
   "source": [
    "import numpy as np"
   ]
  },
  {
   "cell_type": "code",
   "execution_count": 25,
   "metadata": {},
   "outputs": [],
   "source": [
    "\n",
    "# Create an integer messege vector b\n",
    "\n",
    "b = np.array([3,6,7,2,5,2])\n",
    "\n",
    "# create H here n = 6 d = 3 normalize H to get |det(G)| = |det(H)| = 1\n",
    "\n",
    "H = np.array([[0, -0.8, 0, -0.5, 1, 0],[0.8, 0, 0, 1, 0, -0.5],[0, 0.5, 1, 0, 0.8, 0],[0, 0, -0.5, -0.8, 0, 1],[1, 0, 0, 0, 0.5, 0.8],[0.5, -1, -0.8, 0, 0, 0]])\n",
    "\n",
    "H_norm = H/np.abs(np.linalg.det(H))**(1/6.)\n",
    "\n",
    "# Calculate generator matrix G = inv(H) normalize H to get |det(G)| = 1\n",
    "\n",
    "G = np.linalg.inv(H_norm)\n",
    "\n",
    "# Calculate codeword x\n",
    "\n",
    "x = np.dot(G,b)\n",
    "\n",
    "# create noisy codeword y = x + w\n",
    "\n",
    "mu, sigma = 0, 1 # mean and standard deviation\n",
    "w = np.random.normal(mu, sigma, x.shape)\n",
    "y = x + w\n",
    "\n",
    "# x1, x2, x3, x4,...,xn -> variable node c1,c2,....,cn -> check node\n",
    "# Initialization\n",
    "\n",
    "x_input = np.arange(-2000.0,2000.0,0.1)"
   ]
  },
  {
   "cell_type": "code",
   "execution_count": null,
   "metadata": {},
   "outputs": [],
   "source": [
    "\n",
    "\n",
    "def messege(k,x):\n",
    "    # y and sigma should be given\n",
    "    global y\n",
    "    global sigma\n",
    "    return (np.exp(-(((y[k] - x)/sigma)**2)/2.))/(np.sqrt(2*np.pi*sigma**2))\n",
    "\n",
    "# Basic iteration\n",
    "\n",
    "def conv(j,h_r,x):\n",
    "    # assuming r is known\n",
    "    # h_r is the non-zero elements of a row\n",
    "    p_j = 1\n",
    "    for i,k in enumerate (h_r[:j]):\n",
    "        p_j = np.convolve(p_j,messege(i,x/k))\n",
    "    for l,m in enumerate (h_r[j:]):\n",
    "        p_j = np.convolve(p_j,messege(l,x/m))\n",
    "    return p_j\n",
    "\n",
    "def stretch(j,h_r,x):\n",
    "    # The result is stretched by -h_j\n",
    "    return conv(j,h_r,-h_r[j]*x)\n",
    "\n",
    "def periodic_extension(j,h_r,x):\n",
    "    #The result is extended to a periodic function with period 1/|hj |:\n",
    "    end = 10000\n",
    "    i = -10000\n",
    "    q = 0\n",
    "    while i < end:\n",
    "        q += stretch(j, h_r , x  - i/h_r[j])\n",
    "        i += 1\n",
    "    return q\n",
    "    \n",
    "#print (conv(1,np.array([-0.8,-0.5,1])))\n",
    "#print (messege(1,x))\n",
    "    \n",
    "    \n",
    "#test = stretch(1,[-0.8,-0.5,1],x_input)\n",
    "#nonzero = [e for e in test if e!= 0]\n",
    "\n",
    "#print (len(nonzero),len(test))\n",
    "\n",
    "period = periodic_extension(1,[-0.8,-0.5,1],x_input)\n",
    "\n",
    "print (len(period))\n",
    "\n"
   ]
  },
  {
   "cell_type": "code",
   "execution_count": null,
   "metadata": {},
   "outputs": [],
   "source": [
    "import matplotlib.pyplot as plt\n",
    "import seaborn as sns\n",
    "%matplotlib inline"
   ]
  },
  {
   "cell_type": "code",
   "execution_count": null,
   "metadata": {},
   "outputs": [],
   "source": [
    "sns.distplot(period);"
   ]
  },
  {
   "cell_type": "code",
   "execution_count": null,
   "metadata": {},
   "outputs": [],
   "source": [
    "plt.plot(np.arange(11998),period);"
   ]
  },
  {
   "cell_type": "code",
   "execution_count": null,
   "metadata": {},
   "outputs": [],
   "source": []
  },
  {
   "cell_type": "code",
   "execution_count": null,
   "metadata": {},
   "outputs": [],
   "source": []
  },
  {
   "cell_type": "code",
   "execution_count": null,
   "metadata": {},
   "outputs": [],
   "source": []
  }
 ],
 "metadata": {
  "kernelspec": {
   "display_name": "Python 3",
   "language": "python",
   "name": "python3"
  },
  "language_info": {
   "codemirror_mode": {
    "name": "ipython",
    "version": 3
   },
   "file_extension": ".py",
   "mimetype": "text/x-python",
   "name": "python",
   "nbconvert_exporter": "python",
   "pygments_lexer": "ipython3",
   "version": "3.7.6"
  }
 },
 "nbformat": 4,
 "nbformat_minor": 4
}
