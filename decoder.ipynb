{
 "cells": [
  {
   "cell_type": "code",
   "execution_count": 1,
   "metadata": {},
   "outputs": [],
   "source": [
    "import numpy as np\n",
    "from scipy.integrate import quad\n",
    "\n",
    "import matplotlib.pyplot as plt\n",
    "import seaborn as sns\n",
    "%matplotlib inline"
   ]
  },
  {
   "cell_type": "code",
   "execution_count": 2,
   "metadata": {},
   "outputs": [],
   "source": [
    "\n",
    "# Create an integer messege vector b\n",
    "\n",
    "b = np.array([3,6,7,2,5,2])\n",
    "\n",
    "# create H here n = 6 d = 3 normalize H to get |det(G)| = |det(H)| = 1\n",
    "\n",
    "H = np.array([[0, -0.8, 0, -0.5, 1, 0],[0.8, 0, 0, 1, 0, -0.5],[0, 0.5, 1, 0, 0.8, 0],[0, 0, -0.5, -0.8, 0, 1],[1, 0, 0, 0, 0.5, 0.8],[0.5, -1, -0.8, 0, 0, 0]])\n",
    "\n",
    "H_norm = H/np.abs(np.linalg.det(H))**(1/6.)\n",
    "\n",
    "# Calculate generator matrix G = inv(H) normalize H to get |det(G)| = 1\n",
    "\n",
    "G = np.linalg.inv(H_norm)\n",
    "\n",
    "# Calculate codeword x\n",
    "\n",
    "x = np.dot(G,b)\n",
    "\n",
    "x = x.reshape(-1,1)\n",
    "\n",
    "# create noisy codeword y = x + w\n",
    "\n",
    "mu, sigma = 0, 10 # mean and standard deviation\n",
    "w = np.random.normal(mu, sigma, x.shape)\n",
    "y = x + w\n",
    "\n",
    "# x1, x2, x3, x4,...,xn -> variable node c1,c2,....,cn -> check node\n",
    "# Initialization\n",
    "# y is user input fingerprint\n",
    "x_input = np.arange(-200.0,200.1,0.1)"
   ]
  },
  {
   "cell_type": "code",
   "execution_count": 3,
   "metadata": {},
   "outputs": [
    {
     "data": {
      "text/plain": [
       "array([[  86.38408906],\n",
       "       [  42.74860104],\n",
       "       [   6.89727752],\n",
       "       [-137.48451543],\n",
       "       [  -3.23792359],\n",
       "       [-122.87200695]])"
      ]
     },
     "execution_count": 3,
     "metadata": {},
     "output_type": "execute_result"
    }
   ],
   "source": [
    "y"
   ]
  },
  {
   "cell_type": "code",
   "execution_count": 4,
   "metadata": {},
   "outputs": [],
   "source": [
    "\n",
    "\n",
    "def message(x,k):\n",
    "    # y and sigma should be given\n",
    "    # produces f_k^0(x)\n",
    "    global y\n",
    "    global sigma\n",
    "    return (np.exp(-(((y[k] - x)/sigma)**2)/2.))/(np.sqrt(2*np.pi*sigma**2))\n",
    "\n",
    "# Basic iteration\n",
    "\n",
    "def conv(j,h_r,x):\n",
    "    # assuming r is known\n",
    "    # h_r is the elements of a row [0,-0.8,0,-0.5,1,0]\n",
    "    # assuming h_r is known\n",
    "    # provide the vector and put a condition != 0\n",
    "    # i,l should be relabeled\n",
    "    p_j = 1\n",
    "    for i,p in enumerate (h_r[:j]):\n",
    "        if p != 0:\n",
    "            p_j = np.convolve(p_j,message(x/p,i),mode='full') # we need same mode\n",
    "    for l,m in enumerate (h_r[j+1:]):\n",
    "        if m != 0:\n",
    "            p_j = np.convolve(p_j,message(x/m,l),mode='full')\n",
    "    return p_j\n",
    "\n",
    "    \n",
    "\n",
    "def stretch(j,h_r,x):\n",
    "    # The result is stretched by -h_j\n",
    "    return conv(j,h_r,-h_r[j]*x)\n",
    "\n",
    "def periodic_extension(j,h_r,x):\n",
    "    #The result is extended to a periodic function with period 1/|hj |:\n",
    "    end = 101\n",
    "    i = -100\n",
    "    q = 1\n",
    "    while i < end:\n",
    "        \n",
    "        q += stretch(j, h_r , x  - i/h_r[j])\n",
    "        i += 1\n",
    "    return q\n",
    "    \n",
    "def product(j,h_r,k,x):\n",
    "    \n",
    "    # for a specific variable node x_k\n",
    "    # e - column degree\n",
    "    # l != j\n",
    "    # h_r is the non-zero elements of a row\n",
    "    factor = (np.exp(-(((y[k] - x)/sigma)**2)/2.))\n",
    "    e = 6 # in this case\n",
    "    q_l = 1\n",
    "    l = 0\n",
    "    while (l < j):\n",
    "        if h_r[l] != 0:\n",
    "            q_l *= periodic_extension(l,h_r,x)\n",
    "        l += 1                \n",
    "    l = j+1\n",
    "    while (l < e):\n",
    "        if h_r[l] != 0:\n",
    "            q_l *= periodic_extension(l,h_r,x)\n",
    "        l += 1\n",
    "    q_l = q_l[1999:6000]\n",
    "    return factor*q_l\n",
    "    \n",
    "def normalization(j,h_r,k,x):\n",
    "    # sum of product\n",
    "    #norm = quad(message,low,high,args = (k,))\n",
    "    return product(j,h_r,k,x)/sum(product(j,h_r,k,x))\n",
    "    #return  product(j,h_r,k,x)\n",
    "\n"
   ]
  },
  {
   "cell_type": "code",
   "execution_count": 5,
   "metadata": {},
   "outputs": [
    {
     "data": {
      "text/plain": [
       "61.25"
      ]
     },
     "execution_count": 5,
     "metadata": {},
     "output_type": "execute_result"
    }
   ],
   "source": [
    "49/.8"
   ]
  },
  {
   "cell_type": "code",
   "execution_count": 6,
   "metadata": {},
   "outputs": [
    {
     "name": "stdout",
     "output_type": "stream",
     "text": [
      "8001\n"
     ]
    }
   ],
   "source": [
    "#print (conv(1,np.array([-0.8,-0.5,1])))\n",
    "#print (messege(1,x))\n",
    "    \n",
    "    \n",
    "#test = stretch(1,[-0.8,-0.5,1],x_input)\n",
    "#nonzero = [e for e in test if e!= 0]\n",
    "\n",
    "#print (len(nonzero),len(test))\n",
    "\n",
    "period = periodic_extension(1,[0, -0.8, 0, -0.5, 1, 0],x_input)\n",
    "\n",
    "print (len(period))\n"
   ]
  },
  {
   "cell_type": "code",
   "execution_count": 7,
   "metadata": {},
   "outputs": [],
   "source": [
    "norm = normalization(1,[0, -0.8, 0, -0.5, 1, 0],1,x_input)\n",
    "\n",
    "#a = product(1,[0, -0.8, 0, -0.5, 1, 0],1,x_input)"
   ]
  },
  {
   "cell_type": "code",
   "execution_count": 8,
   "metadata": {},
   "outputs": [
    {
     "ename": "SyntaxError",
     "evalue": "invalid syntax (<ipython-input-8-74882b454523>, line 1)",
     "output_type": "error",
     "traceback": [
      "\u001b[0;36m  File \u001b[0;32m\"<ipython-input-8-74882b454523>\"\u001b[0;36m, line \u001b[0;32m1\u001b[0m\n\u001b[0;31m    np.rint(x_input.max() * )\u001b[0m\n\u001b[0m                            ^\u001b[0m\n\u001b[0;31mSyntaxError\u001b[0m\u001b[0;31m:\u001b[0m invalid syntax\n"
     ]
    }
   ],
   "source": []
  },
  {
   "cell_type": "code",
   "execution_count": null,
   "metadata": {},
   "outputs": [],
   "source": [
    "h = np.abs([0, -0.8, 0, -0.5, 1, 0])\n",
    "h[np.nonzero(h)]"
   ]
  },
  {
   "cell_type": "code",
   "execution_count": null,
   "metadata": {},
   "outputs": [],
   "source": [
    "plt.plot(np.arange(len(period)),period);\n",
    "#plt.ylim(3.1248,3.12505);"
   ]
  },
  {
   "cell_type": "code",
   "execution_count": null,
   "metadata": {},
   "outputs": [],
   "source": [
    "#plt.plot(x_input,norm);\n",
    "plt.plot(x_input,message(x_input,1));"
   ]
  },
  {
   "cell_type": "code",
   "execution_count": null,
   "metadata": {
    "scrolled": true
   },
   "outputs": [],
   "source": [
    "plt.plot(x_input,message(x_input/0.5,1));"
   ]
  },
  {
   "cell_type": "markdown",
   "metadata": {},
   "source": [
    "#### Conv mode should be same, otherwise we cannot multiply messege vector\n",
    "#### l = 1"
   ]
  },
  {
   "cell_type": "code",
   "execution_count": null,
   "metadata": {},
   "outputs": [],
   "source": []
  },
  {
   "cell_type": "code",
   "execution_count": null,
   "metadata": {},
   "outputs": [],
   "source": []
  },
  {
   "cell_type": "code",
   "execution_count": 14,
   "metadata": {},
   "outputs": [
    {
     "data": {
      "image/png": "[encoded data removed]",
      "text/plain": [
       "<Figure size 432x288 with 1 Axes>"
      ]
     },
     "metadata": {
      "needs_background": "light"
     },
     "output_type": "display_data"
    }
   ],
   "source": [
    "plt.plot(np.arange(len(conv(3,np.array([0, -0.8, 0, -0.5, 1, 0]),x_input))),conv(3,np.array([0, -0.8, 0, -0.5, 1, 0]),x_input));\n",
    "plt.plot(np.arange(len(stretch(3,np.array([0, -0.8, 0, -0.5, 1, 0]),x_input))),stretch(3,np.array([0, -0.8, 0, -0.5, 1, 0]),x_input));"
   ]
  },
  {
   "cell_type": "code",
   "execution_count": 12,
   "metadata": {},
   "outputs": [
    {
     "data": {
      "image/png": "[encoded data removed]",
      "text/plain": [
       "<Figure size 432x288 with 1 Axes>"
      ]
     },
     "metadata": {
      "needs_background": "light"
     },
     "output_type": "display_data"
    }
   ],
   "source": [
    "plt.plot(np.arange(len(stretch(1,np.array([0, -0.8, 0, -0.5, 1, 0]),x_input))),stretch(1,np.array([0, -0.8, 0, -0.5, 1, 0]),x_input));"
   ]
  },
  {
   "cell_type": "code",
   "execution_count": null,
   "metadata": {},
   "outputs": [],
   "source": []
  },
  {
   "cell_type": "code",
   "execution_count": null,
   "metadata": {},
   "outputs": [],
   "source": [
    "per_1 = stretch(1,np.array([0, -0.8, 0, -0.5, 1, 0]),x_input + 1/1)\n",
    "per_2 = stretch(1,np.array([0, -0.8, 0, -0.5, 1, 0]),x_input + 50/1)\n",
    "per_3 = stretch(1,np.array([0, -0.8, 0, -0.5, 1, 0]),x_input - 50/1)"
   ]
  },
  {
   "cell_type": "code",
   "execution_count": null,
   "metadata": {},
   "outputs": [],
   "source": [
    "plt.plot(np.arange(len(per_1)),per_1);"
   ]
  },
  {
   "cell_type": "code",
   "execution_count": null,
   "metadata": {},
   "outputs": [],
   "source": [
    "plt.plot(np.arange(len(per_2)),per_2+per_1+per_3);"
   ]
  },
  {
   "cell_type": "code",
   "execution_count": null,
   "metadata": {},
   "outputs": [],
   "source": [
    "h_1 = np.array([0, -0.8, 0, -0.5, 1, 0])"
   ]
  },
  {
   "cell_type": "code",
   "execution_count": null,
   "metadata": {},
   "outputs": [],
   "source": [
    "h_1[:2]"
   ]
  },
  {
   "cell_type": "code",
   "execution_count": null,
   "metadata": {},
   "outputs": [],
   "source": [
    "h_1[3:]"
   ]
  },
  {
   "cell_type": "code",
   "execution_count": null,
   "metadata": {},
   "outputs": [],
   "source": [
    "len(np.arange(-200,200,0.1))"
   ]
  },
  {
   "cell_type": "code",
   "execution_count": 15,
   "metadata": {},
   "outputs": [
    {
     "data": {
      "text/plain": [
       "array([-1.3, -0.3,  1.3,  2.3])"
      ]
     },
     "execution_count": 15,
     "metadata": {},
     "output_type": "execute_result"
    }
   ],
   "source": [
    "np.unique(H.sum(0))"
   ]
  },
  {
   "cell_type": "code",
   "execution_count": 16,
   "metadata": {},
   "outputs": [
    {
     "data": {
      "text/plain": [
       "array([-1.3, -0.3,  1.3,  2.3])"
      ]
     },
     "execution_count": 16,
     "metadata": {},
     "output_type": "execute_result"
    }
   ],
   "source": [
    " np.unique(H.sum(1))"
   ]
  },
  {
   "cell_type": "code",
   "execution_count": 18,
   "metadata": {},
   "outputs": [
    {
     "data": {
      "text/plain": [
       "(array([0, 0, 0, 1, 1, 1, 2, 2, 2, 3, 3, 3, 4, 4, 4, 5, 5, 5]),\n",
       " array([1, 3, 4, 0, 3, 5, 1, 2, 4, 2, 3, 5, 0, 4, 5, 0, 1, 2]))"
      ]
     },
     "execution_count": 18,
     "metadata": {},
     "output_type": "execute_result"
    }
   ],
   "source": [
    "H.nonzero()"
   ]
  },
  {
   "cell_type": "code",
   "execution_count": 19,
   "metadata": {},
   "outputs": [
    {
     "data": {
      "text/plain": [
       "array([[ 0. , -0.8,  0. , -0.5,  1. ,  0. ],\n",
       "       [ 0.8,  0. ,  0. ,  1. ,  0. , -0.5],\n",
       "       [ 0. ,  0.5,  1. ,  0. ,  0.8,  0. ],\n",
       "       [ 0. ,  0. , -0.5, -0.8,  0. ,  1. ],\n",
       "       [ 1. ,  0. ,  0. ,  0. ,  0.5,  0.8],\n",
       "       [ 0.5, -1. , -0.8,  0. ,  0. ,  0. ]])"
      ]
     },
     "execution_count": 19,
     "metadata": {},
     "output_type": "execute_result"
    }
   ],
   "source": [
    "H"
   ]
  },
  {
   "cell_type": "code",
   "execution_count": null,
   "metadata": {},
   "outputs": [],
   "source": []
  }
 ],
 "metadata": {
  "kernelspec": {
   "display_name": "Python 3",
   "language": "python",
   "name": "python3"
  },
  "language_info": {
   "codemirror_mode": {
    "name": "ipython",
    "version": 3
   },
   "file_extension": ".py",
   "mimetype": "text/x-python",
   "name": "python",
   "nbconvert_exporter": "python",
   "pygments_lexer": "ipython3",
   "version": "3.7.4"
  }
 },
 "nbformat": 4,
 "nbformat_minor": 4
}
