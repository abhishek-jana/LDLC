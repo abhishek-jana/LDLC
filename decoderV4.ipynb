{
 "cells": [
  {
   "cell_type": "code",
   "execution_count": 1,
   "metadata": {},
   "outputs": [],
   "source": [
    "# REF: https://arxiv.org/pdf/0704.1317.pdf\n",
    "\n",
    "# import libraries\n",
    "import numpy as np\n",
    "import scipy\n",
    "from scipy import interpolate\n",
    "\n",
    "\n",
    "import matplotlib.pyplot as plt\n",
    "\n",
    "%matplotlib inline"
   ]
  },
  {
   "cell_type": "code",
   "execution_count": 212,
   "metadata": {},
   "outputs": [],
   "source": [
    "# Create an integer messege vector b\n",
    "\n",
    "b = np.array([3,6,7,2,5,2])\n",
    "\n",
    "# create H here n = 6 d = 3 normalize H to get |det(G)| = |det(H)| = 1\n",
    "\n",
    "H = np.array([[0, -0.8, 0, -0.5, 1, 0],[0.8, 0, 0, 1, 0, -0.5],[0, 0.5, 1, 0, 0.8, 0],[0, 0, -0.5, -0.8, 0, 1],[1, 0, 0, 0, 0.5, 0.8],[0.5, -1, -0.8, 0, 0, 0]])\n",
    "\n",
    "H_norm = H/np.abs(np.linalg.det(H))**(1/6.)\n",
    "\n",
    "# Calculate generator matrix G = inv(H) normalize H to get |det(G)| = 1\n",
    "\n",
    "G = np.linalg.inv(H_norm)\n",
    "\n",
    "# Calculate codeword x\n",
    "\n",
    "x = np.dot(G,b)\n",
    "\n",
    "x = x.reshape(-1,1)\n",
    "\n",
    "# create noisy codeword y = x + w\n",
    "\n",
    "mu, sigma = 0, 10 # mean and standard deviation\n",
    "w = np.random.normal(mu, sigma, x.shape)\n",
    "y = x + w\n",
    "\n",
    "# y is user input fingerprint\n",
    "x_input = np.arange(-200.0,200.1,0.1)\n",
    "\n"
   ]
  },
  {
   "cell_type": "code",
   "execution_count": 3,
   "metadata": {},
   "outputs": [],
   "source": [
    "\"\"\"\n",
    "check node --- Q ---> variable node\n",
    "variable node --- f ---> check node\n",
    "\n",
    "\"\"\"\n",
    "# Write a funtion that will return check and variable nodes from H matrix\n",
    "\n",
    "def _ChkandVarNodes(H):\n",
    "    \"\"\"Return check and variable nodes of a parity-check matrix H.\n",
    "    Example:\n",
    "    \n",
    "    H = array([[ 0. , -0.8,  0. , -0.5,  1. ,  0. ],\n",
    "       [ 0.8,  0. ,  0. ,  1. ,  0. , -0.5],\n",
    "       [ 0. ,  0.5,  1. ,  0. ,  0.8,  0. ],\n",
    "       [ 0. ,  0. , -0.5, -0.8,  0. ,  1. ],\n",
    "       [ 1. ,  0. ,  0. ,  0. ,  0.5,  0.8],\n",
    "       [ 0.5, -1. , -0.8,  0. ,  0. ,  0. ]])\n",
    "       \n",
    "    cnode_idx,cnode,vnode_idx,vnode = _ChkandVarNodes(H)\n",
    "    \n",
    "    cnode_idx,cnode,vnode_idx,vnode = \n",
    "    \n",
    "    (array([0, 0, 0, 1, 1, 1, 2, 2, 2, 3, 3, 3, 4, 4, 4, 5, 5, 5]),\n",
    "     array([1, 4, 5, 0, 2, 5, 2, 3, 5, 0, 1, 3, 0, 2, 4, 1, 3, 4]),\n",
    "     array([0, 0, 0, 1, 1, 1, 2, 2, 2, 3, 3, 3, 4, 4, 4, 5, 5, 5]),\n",
    "     array([1, 3, 4, 0, 3, 5, 1, 2, 4, 2, 3, 5, 0, 4, 5, 0, 1, 2]))\n",
    "    \n",
    "    EACH ROW IS 1 VARIABLE NODE!\n",
    "    EACH COULMN IS 1 CHECK NODE!\n",
    "    \n",
    "    So for check node chk_id is the column index\n",
    "    \"\"\"\n",
    "    if type(H) != scipy.sparse.csr_matrix:\n",
    "        vnode_indices, vnode_nodes = np.where(H)\n",
    "        cnode_indices, cnode_nodes = np.where(H.T)\n",
    "    else:\n",
    "        vnode_indices, vnode_nodes = scipy.sparse.find(H)[:2]\n",
    "        cnode_indices, cnode_nodes = scipy.sparse.find(H.T)[:2]\n",
    "    #chk_histogram = np.bincount(chk_indices)\n",
    "    #var_histogram = np.bincount(var_indices)\n",
    "\n",
    "    return cnode_indices, cnode_nodes, vnode_indices, vnode_nodes"
   ]
  },
  {
   "cell_type": "code",
   "execution_count": 29,
   "metadata": {},
   "outputs": [],
   "source": [
    "# x1, x2, x3, x4,...,xn -> variable node c1,c2,....,cn -> check node\n",
    "# Initialization from variable to check node\n",
    "\n",
    "def init_message(x, mat):\n",
    "    # produces f_k^0(x)\n",
    "    \"\"\"\n",
    "    initial message vector\n",
    "    \n",
    "    INPUT\n",
    "    x (1d array) - input suport vactor\n",
    "    mat - parity-check matrix.\n",
    "    \n",
    "    OUTPUT\n",
    "    variable node outgoing message\n",
    "    \"\"\"\n",
    "    global sigma\n",
    "    nvnode,ncnode = mat.shape     \n",
    "    # initialize outgoing variable messege\n",
    "    cnode_message = np.zeros(shape = (ncnode,nvnode,len(x)))\n",
    "    cnode_idx,cnode,_,_ = _ChkandVarNodes(mat)\n",
    "\n",
    "    cnode_message[tuple([cnode_idx,cnode])] = (np.exp(-(((H[tuple([cnode,cnode_idx])].reshape(-1,1) - x)/sigma)**2)/2.))/(np.sqrt(2*np.pi*sigma**2))\n",
    "        \n",
    "    return cnode_message"
   ]
  },
  {
   "cell_type": "code",
   "execution_count": 5,
   "metadata": {},
   "outputs": [],
   "source": [
    "def extrapolate(x_in,y):\n",
    "    \"\"\"\n",
    "    Given an array, returns the extrapolated function f(x_in)\n",
    "    y = f(arr)\n",
    "    \n",
    "    INPUT\n",
    "    x_in (1d array) - range of the array\n",
    "    y (1d array) - array to be interpolated\n",
    "    \n",
    "    OUTPUT\n",
    "    interpolated funtion f(arr)\n",
    "    \"\"\"\n",
    "    f = interpolate.interp1d(x_in, y, fill_value = \"extrapolate\")\n",
    "    return f"
   ]
  },
  {
   "cell_type": "code",
   "execution_count": 6,
   "metadata": {},
   "outputs": [],
   "source": [
    "#Check node will receive a list of varibale node messages.\n",
    "\n",
    "class CheckNode:\n",
    "    def __init__(self,H,x):\n",
    "        \"\"\"\n",
    "        initialize CheckNode class\n",
    "\n",
    "        INPUT\n",
    "        h (array) - h is the elements of a row from H ex: [0,-0.8,0,-0.5,1,0]\n",
    "        j (int) - jth check node\n",
    "        \"\"\"\n",
    "        self.H = H\n",
    "        #self.cnode_id,self.cnode,self.vnode_id,self.vnode = _ChkandVarNodes(H)\n",
    "        \n",
    "        # cnode_id --> vnode_ids\n",
    "        self.vnode_id = [list(H[:,i].nonzero()[0]) for i in range(H.shape[1])] \n",
    "        # vnode_id --> cnode_ids\n",
    "        self.cnode_id = [list(H[i,:].nonzero()[0]) for i in range(H.shape[0])] \n",
    "        \n",
    "        self.nvnode,self.ncnode = H.shape \n",
    "        self.x = x\n",
    "        # initialize outgoing check messege\n",
    "        self.cnode_message = np.zeros(shape = (self.nvnode,self.ncnode,2*len(self.x) - 1)) # nonzero -1 = 2\n",
    "        \n",
    "    def pj(self,chk_idx,var_idx,vnode_message,x_in = None):\n",
    "        \"\"\"\n",
    "        convolve all messages except f_j(x)\n",
    "        x (array) - input suport vactor\n",
    "        message (2d matrix) - incoming variable node messages of the form (numvar,len(x))\n",
    "        chk_idx (int) - check node id\n",
    "        var_idx (int) - variable node id\n",
    "        Returns p_j(x)\n",
    "        \"\"\"\n",
    "        \n",
    "        if x_in is None:\n",
    "            x_in = self.x\n",
    "        else:\n",
    "            assert len(x_in) == len(self.x), \"length mismatch!\"\n",
    "            \n",
    "        assert vnode_message.shape == (self.ncnode, self.nvnode, len(self.x))\n",
    "        \n",
    "        # extrapolation should always be on support vector self.x\n",
    "        vnode_message_func = extrapolate(self.x,vnode_message)\n",
    "        var_ids =  np.asarray(self.vnode_id[chk_idx])\n",
    "        p_j = 1\n",
    "        for i in var_ids[var_ids != var_idx]:\n",
    "            val = self.H[i,chk_idx]\n",
    "            p_j = np.convolve(p_j,vnode_message_func(x_in/val)[chk_idx][i].ravel(),mode='full')\n",
    "        return p_j \n",
    "    \n",
    "    def _conv1node(self,chk_idx,vnode_message,x_in = None):\n",
    "        \"\"\"\n",
    "        convolve all messages for 1 check node\n",
    "        x (array) - input suport vactor\n",
    "        message (2d matrix) - incoming variable node messages of the form (numvar,len(x))\n",
    "        chk_idx (int) - check node id\n",
    "        Returns p_j(x)\n",
    "        \"\"\"\n",
    "\n",
    "            \n",
    "        var_message = []\n",
    "        var_idx =  np.asarray(self.vnode_id[chk_idx])\n",
    "        for idx in var_idx:\n",
    "            p_j = 1\n",
    "            p_j = self.pj(chk_idx,idx,vnode_message,x_in)\n",
    "            var_message.append(p_j)            \n",
    "                    \n",
    "        return var_message     \n",
    "        \n",
    "    def conv_all_node(self,vnode_message,x_in = None):\n",
    "        \"\"\"\n",
    "        convolve all checknode messages\n",
    "        x (array) - input suport vactor\n",
    "        vnode_message (nd matrix) - incoming variable node messages of the form (numchk,numvar, len(x))\n",
    "        \n",
    "        Returns p_j(x)\n",
    "        \"\"\"\n",
    "\n",
    "            \n",
    "        allmsg = []\n",
    "        \n",
    "        for i in range(self.ncnode):\n",
    "            msg = self._conv1node(i,vnode_message)\n",
    "            allmsg.append(msg)        \n",
    "        return allmsg\n",
    "        \n",
    "\n",
    "    def stretch_pj(self,chk_idx,var_idx,vnode_message,x_in = None):\n",
    "        \"\"\"\n",
    "        The result is stretched by -h_j\n",
    "        x_in (array) - input suport vactor\n",
    "        \n",
    "        RETURNS p_j(-h_j*x)\n",
    "        \"\"\"\n",
    "        \n",
    "        if x_in is None:\n",
    "            x_in = self.x\n",
    "#         else:\n",
    "#             assert len(x_in) == len(self.x), \"length mismatch!\"\n",
    "            \n",
    "        h_j = self.H[var_idx,chk_idx]\n",
    "        p_j = self.pj(chk_idx,var_idx,vnode_message, x_in = -h_j*x_in)\n",
    "        return p_j\n",
    "    \n",
    "    def periodic_extension(self,chk_idx,var_idx,vnode_message,x_in = None):\n",
    "        \"\"\"\n",
    "        The result is extended to a periodic function with period 1/|hj|:\n",
    "        x (array) - input suport vactor\n",
    "        \n",
    "        RETURNS Q_j(x)\n",
    "        \"\"\"\n",
    "        if x_in is None:\n",
    "            x_in = self.x\n",
    "            \n",
    "        h = np.abs(self.H)\n",
    "        minval = h[np.nonzero(h)].min()\n",
    "        end = np.rint(self.x.max()*minval) # 100\n",
    "        i = np.rint(self.x.min()*minval) # -100\n",
    "        h_j = self.H[var_idx,chk_idx]\n",
    "        q = 1\n",
    "        while i < end:\n",
    "            q += self.stretch_pj(chk_idx,var_idx,vnode_message, x_in = -h_j*x_in - i/h_j)\n",
    "            i += 1\n",
    "        return q\n",
    "    def Q(self,vnode_message):\n",
    "        \"\"\"        \n",
    "        RETURNS Q_j(x) of shape (nvnode,ncnode,8001)\n",
    "        \"\"\"\n",
    "        \n",
    "        for v_id in range(self.nvnode):\n",
    "            for c_id in self.cnode_id[v_id]:\n",
    "                self.cnode_message[v_id,c_id] = self.periodic_extension(c_id,v_id,vnode_message)\n",
    "            \n",
    "        return self.cnode_message"
   ]
  },
  {
   "cell_type": "code",
   "execution_count": 197,
   "metadata": {},
   "outputs": [],
   "source": [
    "def productExceptSelf(nums):\n",
    "    right_multiply = [0] * len(nums)\n",
    "    right_multiply[-1]=nums[-1]\n",
    "    for i in range(1,len(nums)):\n",
    "        right_multiply[len(nums)-i-1] = right_multiply[len(nums)-i] * nums[len(nums)-i-1]\n",
    "    output = [0]*len(nums)\n",
    "    prefix = 1\n",
    "    current_index = 0\n",
    "    while current_index < len(output)-1:\n",
    "        output[current_index] = prefix * right_multiply[current_index+1]\n",
    "        prefix *= nums[current_index]\n",
    "        current_index +=1\n",
    "    output[-1] = prefix\n",
    "    return output\n",
    "\n",
    "class VariableNode(CheckNode):\n",
    "    def __init__(self,H,x):\n",
    "        super().__init__(H,x)\n",
    "        self.factor = (np.sqrt(2*np.pi*sigma**2))*init_message(self.x,self.H)\n",
    "        self.vnode_message = np.zeros(shape = (self.ncnode, self.nvnode, len(self.x)))\n",
    "    def product(self,cnode_message):\n",
    "        \"\"\"\n",
    "        Returns f_j(x)\n",
    "        \"\"\"\n",
    "        mid = cnode_message.shape[2]//2\n",
    "        mid_input = len(self.x)//2\n",
    "        start = mid - mid_input# start of slice\n",
    "        end = mid + (len(self.x) - mid_input)# end of slice\n",
    "        for i,cid in enumerate(self.cnode_id):\n",
    "            temp = np.array(productExceptSelf(cnode_message[i][cid,:]))\n",
    "            temp = temp[:,start:end]\n",
    "            #temp = self.factor.transpose(1,0,2)*temp\n",
    "            self.vnode_message[i][cid,:] = temp\n",
    "            #print (temp)\n",
    "        # factor is [chknode][vnode][4001] \n",
    "\n",
    "        return self.factor.transpose(1,0,2)*self.vnode_message\n",
    "    def f(self,cnode_message):\n",
    "        \"\"\"\n",
    "        \"\"\"\n",
    "        #normalize\n",
    "        self.vnode_message = self.product(cnode_message)\n",
    "        total = np.sum(self.vnode_message, keepdims = True, axis = 2)\n",
    "        \n",
    "        res = np.divide(self.vnode_message, total, out=np.zeros_like(self.vnode_message), where=total!=0)\n",
    "        \n",
    "        return res.transpose(1,0,2)\n",
    "    def final(self,cnode_message):\n",
    "        mid = cnode_message.shape[2]//2\n",
    "        mid_input = len(self.x)//2\n",
    "        start = mid - mid_input# start of slice\n",
    "        for i,cid in enumerate(self.cnode_id):\n",
    "            temp = np.prod(cnode_message[i][cid,:],axis=0)\n",
    "            temp = temp[:,start:end]\n",
    "            self.vnode_message[i][cid,:] = temp\n",
    "\n",
    "        return self.factor.transpose(1,0,2)*self.vnode_message\n",
    "        "
   ]
  },
  {
   "cell_type": "code",
   "execution_count": 8,
   "metadata": {},
   "outputs": [],
   "source": [
    "node = CheckNode(H,x_input)\n",
    "# node"
   ]
  },
  {
   "cell_type": "code",
   "execution_count": 9,
   "metadata": {},
   "outputs": [],
   "source": [
    "result = init_message(x_input, H)\n",
    "#convolution = node.pj(0,5,vnode_message = result,x_in = x_input)\n",
    "stretch = node.stretch_pj(0,5,vnode_message = result)\n",
    "#extension = node.periodic_extension(0,5,vnode_message = result)\n",
    "q = node.Q(vnode_message=result)"
   ]
  },
  {
   "cell_type": "code",
   "execution_count": 10,
   "metadata": {},
   "outputs": [
    {
     "data": {
      "text/plain": [
       "array([1., 1., 1., ..., 1., 1., 1.])"
      ]
     },
     "execution_count": 10,
     "metadata": {},
     "output_type": "execute_result"
    }
   ],
   "source": [
    "q[1,0]"
   ]
  },
  {
   "cell_type": "code",
   "execution_count": 11,
   "metadata": {},
   "outputs": [
    {
     "data": {
      "text/plain": [
       "(6, 6, 8001)"
      ]
     },
     "execution_count": 11,
     "metadata": {},
     "output_type": "execute_result"
    }
   ],
   "source": [
    "node.cnode_message.shape"
   ]
  },
  {
   "cell_type": "code",
   "execution_count": 12,
   "metadata": {},
   "outputs": [
    {
     "data": {
      "text/plain": [
       "array([1.02491182, 1.04982338, 1.0747347 , ..., 1.0747347 , 1.04982338,\n",
       "       1.02491182])"
      ]
     },
     "execution_count": 12,
     "metadata": {},
     "output_type": "execute_result"
    }
   ],
   "source": [
    "extension"
   ]
  },
  {
   "cell_type": "code",
   "execution_count": 13,
   "metadata": {},
   "outputs": [
    {
     "data": {
      "image/png": "[encoded data removed]",
      "text/plain": [
       "<Figure size 432x288 with 1 Axes>"
      ]
     },
     "metadata": {
      "needs_background": "light"
     },
     "output_type": "display_data"
    }
   ],
   "source": [
    "#plt.plot(range(len(stretch)),stretch,'r');\n",
    "#plt.plot(range(len(stretch)),convolution,'b');\n",
    "#plt.plot(range(len(stretch)),extension,'g');\n",
    "plt.plot(range(len(stretch)),q[2,1],'c');\n",
    "plt.plot(range(len(stretch)),q[2,2],'r');\n",
    "plt.plot(range(len(stretch)),q[2,4],'g');"
   ]
  },
  {
   "cell_type": "markdown",
   "metadata": {},
   "source": [
    "## Testing "
   ]
  },
  {
   "cell_type": "code",
   "execution_count": 14,
   "metadata": {},
   "outputs": [
    {
     "data": {
      "text/plain": [
       "[[1, 4, 5], [0, 2, 5], [2, 3, 5], [0, 1, 3], [0, 2, 4], [1, 3, 4]]"
      ]
     },
     "execution_count": 14,
     "metadata": {},
     "output_type": "execute_result"
    }
   ],
   "source": [
    "node.vnode_id # for each chk node"
   ]
  },
  {
   "cell_type": "code",
   "execution_count": 15,
   "metadata": {},
   "outputs": [
    {
     "data": {
      "text/plain": [
       "[[1, 3, 4], [0, 3, 5], [1, 2, 4], [2, 3, 5], [0, 4, 5], [0, 1, 2]]"
      ]
     },
     "execution_count": 15,
     "metadata": {},
     "output_type": "execute_result"
    }
   ],
   "source": [
    "node.cnode_id # for each var node"
   ]
  },
  {
   "cell_type": "code",
   "execution_count": 151,
   "metadata": {},
   "outputs": [],
   "source": [
    "vnode = VariableNode(H,x_input)"
   ]
  },
  {
   "cell_type": "code",
   "execution_count": 152,
   "metadata": {},
   "outputs": [],
   "source": [
    "f = vnode.f(q)"
   ]
  },
  {
   "cell_type": "code",
   "execution_count": 159,
   "metadata": {},
   "outputs": [
    {
     "data": {
      "image/png": "[encoded data removed]",
      "text/plain": [
       "<Figure size 432x288 with 1 Axes>"
      ]
     },
     "metadata": {
      "needs_background": "light"
     },
     "output_type": "display_data"
    }
   ],
   "source": [
    "plt.plot(np.arange(4001),f[0][5]);\n",
    "plt.plot(np.arange(4001),result[0][5],'r');"
   ]
  },
  {
   "cell_type": "code",
   "execution_count": 162,
   "metadata": {},
   "outputs": [
    {
     "data": {
      "text/plain": [
       "-0.03590480523612906"
      ]
     },
     "execution_count": 162,
     "metadata": {},
     "output_type": "execute_result"
    }
   ],
   "source": [
    "f.max()-result.max()"
   ]
  },
  {
   "cell_type": "code",
   "execution_count": null,
   "metadata": {},
   "outputs": [],
   "source": [
    "import timeit"
   ]
  },
  {
   "cell_type": "code",
   "execution_count": null,
   "metadata": {},
   "outputs": [],
   "source": [
    "timeit.timeit('allchknode(x_input,np.arange(6))', 'from __main__ import np, allchknode,x_input', number=1000)"
   ]
  },
  {
   "cell_type": "code",
   "execution_count": 198,
   "metadata": {},
   "outputs": [],
   "source": [
    "from IPython import display\n",
    "\n",
    "def visualize(x,y,z):\n",
    "    plt.plot(x,y,'g',label='before iteration')\n",
    "    plt.plot(x,z,'r',label = 'after iteration')\n",
    "    display.clear_output(wait=True)\n",
    "    plt.legend()\n",
    "    plt.show();"
   ]
  },
  {
   "cell_type": "code",
   "execution_count": 199,
   "metadata": {},
   "outputs": [
    {
     "data": {
      "image/png": "[encoded data removed]",
      "text/plain": [
       "<Figure size 432x288 with 1 Axes>"
      ]
     },
     "metadata": {
      "needs_background": "light"
     },
     "output_type": "display_data"
    },
    {
     "name": "stdout",
     "output_type": "stream",
     "text": [
      "iter3: 0.0\n"
     ]
    },
    {
     "data": {
      "text/plain": [
       "<Figure size 432x288 with 0 Axes>"
      ]
     },
     "metadata": {},
     "output_type": "display_data"
    }
   ],
   "source": [
    "cnode = CheckNode(H,x_input)\n",
    "vnode = VariableNode(H,x_input)\n",
    "res = init_message(x_input, H)\n",
    "for i in range(4):\n",
    "    q = cnode.Q(res)\n",
    "    f = vnode.f(q)\n",
    "    visualize(x_input,res[0][5],f[0][5])\n",
    "    print (f'iter{i}:',res[0][5].max()-f[0][5].max())\n",
    "    res = f\n",
    "plt.clf();    \n",
    "    "
   ]
  },
  {
   "cell_type": "code",
   "execution_count": 200,
   "metadata": {},
   "outputs": [],
   "source": [
    "f_final = vnode.f(q)\n"
   ]
  },
  {
   "cell_type": "code",
   "execution_count": 216,
   "metadata": {},
   "outputs": [],
   "source": [
    "x_b = np.argmax(f_final.argmax(axis = 2),axis=1)"
   ]
  },
  {
   "cell_type": "code",
   "execution_count": 217,
   "metadata": {},
   "outputs": [
    {
     "data": {
      "text/plain": [
       "array([-2.,  3.,  3.,  1.,  6., -2.])"
      ]
     },
     "execution_count": 217,
     "metadata": {},
     "output_type": "execute_result"
    }
   ],
   "source": [
    "np.rint(np.dot(H,x_b))"
   ]
  },
  {
   "cell_type": "code",
   "execution_count": 213,
   "metadata": {},
   "outputs": [
    {
     "data": {
      "text/plain": [
       "array([3, 6, 7, 2, 5, 2])"
      ]
     },
     "execution_count": 213,
     "metadata": {},
     "output_type": "execute_result"
    }
   ],
   "source": [
    "b"
   ]
  },
  {
   "cell_type": "code",
   "execution_count": 232,
   "metadata": {},
   "outputs": [
    {
     "data": {
      "image/png": "[encoded data removed]",
      "text/plain": [
       "<Figure size 432x288 with 1 Axes>"
      ]
     },
     "metadata": {
      "needs_background": "light"
     },
     "output_type": "display_data"
    }
   ],
   "source": [
    "visualize(x_input,f_final[0][1],f_final[1][5])"
   ]
  },
  {
   "cell_type": "code",
   "execution_count": null,
   "metadata": {},
   "outputs": [],
   "source": []
  }
 ],
 "metadata": {
  "kernelspec": {
   "display_name": "Python 3",
   "language": "python",
   "name": "python3"
  },
  "language_info": {
   "codemirror_mode": {
    "name": "ipython",
    "version": 3
   },
   "file_extension": ".py",
   "mimetype": "text/x-python",
   "name": "python",
   "nbconvert_exporter": "python",
   "pygments_lexer": "ipython3",
   "version": "3.8.5"
  }
 },
 "nbformat": 4,
 "nbformat_minor": 2
}
